{
  "nbformat": 4,
  "nbformat_minor": 0,
  "metadata": {
    "colab": {
      "name": "Untitled3.ipynb",
      "provenance": [],
      "collapsed_sections": [],
      "authorship_tag": "ABX9TyPbuIC603UZeAGYjIGcqukf",
      "include_colab_link": true
    },
    "kernelspec": {
      "name": "python3",
      "display_name": "Python 3"
    },
    "language_info": {
      "name": "python"
    }
  },
  "cells": [
    {
      "cell_type": "markdown",
      "metadata": {
        "id": "view-in-github",
        "colab_type": "text"
      },
      "source": [
        "<a href=\"https://colab.research.google.com/github/CarolAnnMcca/GitHubBeginner/blob/main/SEOAnalyzer.ipynb\" target=\"_parent\"><img src=\"https://colab.research.google.com/assets/colab-badge.svg\" alt=\"Open In Colab\"/></a>"
      ]
    },
    {
      "cell_type": "code",
      "metadata": {
        "id": "xMIbqe4ZBeth"
      },
      "source": [
        ""
      ],
      "execution_count": null,
      "outputs": []
    },
    {
      "cell_type": "code",
      "metadata": {
        "id": "GQ18Kd5F3uKe",
        "colab": {
          "base_uri": "https://localhost:8080/"
        },
        "outputId": "33dbe7fa-4f9e-4809-c1fb-7283ab5c2e7f"
      },
      "source": [
        "!pip install pyseoanalyzer"
      ],
      "execution_count": null,
      "outputs": [
        {
          "output_type": "stream",
          "name": "stdout",
          "text": [
            "Collecting pyseoanalyzer\n",
            "  Downloading pyseoanalyzer-4.0.3.tar.gz (13 kB)\n",
            "Requirement already satisfied: BeautifulSoup4 in /usr/local/lib/python3.7/dist-packages (from pyseoanalyzer) (4.6.3)\n",
            "Requirement already satisfied: requests in /usr/local/lib/python3.7/dist-packages (from pyseoanalyzer) (2.23.0)\n",
            "Requirement already satisfied: jinja2 in /usr/local/lib/python3.7/dist-packages (from pyseoanalyzer) (2.11.3)\n",
            "Requirement already satisfied: urllib3 in /usr/local/lib/python3.7/dist-packages (from pyseoanalyzer) (1.24.3)\n",
            "Requirement already satisfied: certifi in /usr/local/lib/python3.7/dist-packages (from pyseoanalyzer) (2021.5.30)\n",
            "Requirement already satisfied: MarkupSafe>=0.23 in /usr/local/lib/python3.7/dist-packages (from jinja2->pyseoanalyzer) (2.0.1)\n",
            "Requirement already satisfied: chardet<4,>=3.0.2 in /usr/local/lib/python3.7/dist-packages (from requests->pyseoanalyzer) (3.0.4)\n",
            "Requirement already satisfied: idna<3,>=2.5 in /usr/local/lib/python3.7/dist-packages (from requests->pyseoanalyzer) (2.10)\n",
            "Building wheels for collected packages: pyseoanalyzer\n",
            "  Building wheel for pyseoanalyzer (setup.py) ... \u001b[?25l\u001b[?25hdone\n",
            "  Created wheel for pyseoanalyzer: filename=pyseoanalyzer-4.0.3-py3-none-any.whl size=15366 sha256=77293532225829ab15a3d11619455ebd8ce5dcb14ca8fc6b9bd985d49f22fe77\n",
            "  Stored in directory: /root/.cache/pip/wheels/64/40/28/70c4495aa56d5392316a1517b56f686a609b1416e5620bd30c\n",
            "Successfully built pyseoanalyzer\n",
            "Installing collected packages: pyseoanalyzer\n",
            "Successfully installed pyseoanalyzer-4.0.3\n"
          ]
        }
      ]
    },
    {
      "cell_type": "code",
      "metadata": {
        "id": "lAgu_aCvBwW_"
      },
      "source": [
        ""
      ],
      "execution_count": null,
      "outputs": []
    },
    {
      "cell_type": "code",
      "metadata": {
        "id": "d_j7nNbKRmhx",
        "colab": {
          "base_uri": "https://localhost:8080/"
        },
        "outputId": "19c331b1-f702-4ee3-9b42-f0fcc8de0677"
      },
      "source": [
        "# https://pypi.python.org/pypi/libarchive\n",
        "!apt-get -qq install -y libarchive-dev && pip install -U libarchive\n",
        "import libarchive"
      ],
      "execution_count": null,
      "outputs": [
        {
          "output_type": "stream",
          "name": "stdout",
          "text": [
            "Selecting previously unselected package libarchive-dev:amd64.\n",
            "(Reading database ... 155013 files and directories currently installed.)\n",
            "Preparing to unpack .../libarchive-dev_3.2.2-3.1ubuntu0.7_amd64.deb ...\n",
            "Unpacking libarchive-dev:amd64 (3.2.2-3.1ubuntu0.7) ...\n",
            "Setting up libarchive-dev:amd64 (3.2.2-3.1ubuntu0.7) ...\n",
            "Processing triggers for man-db (2.8.3-2ubuntu0.1) ...\n",
            "Collecting libarchive\n",
            "  Downloading libarchive-0.4.7.tar.gz (23 kB)\n",
            "Collecting nose\n",
            "  Downloading nose-1.3.7-py3-none-any.whl (154 kB)\n",
            "\u001b[K     |████████████████████████████████| 154 kB 52.0 MB/s \n",
            "\u001b[?25hBuilding wheels for collected packages: libarchive\n",
            "  Building wheel for libarchive (setup.py) ... \u001b[?25l\u001b[?25hdone\n",
            "  Created wheel for libarchive: filename=libarchive-0.4.7-py3-none-any.whl size=31647 sha256=cde836fe24fa3cee0cf10f085f48fd36ede963c74df025ac08a9e0fa4b6839f4\n",
            "  Stored in directory: /root/.cache/pip/wheels/63/b1/c6/b3da79bec2012175bd43603eed98ef8548ac1733b77c1d4330\n",
            "Successfully built libarchive\n",
            "Installing collected packages: nose, libarchive\n",
            "Successfully installed libarchive-0.4.7 nose-1.3.7\n"
          ]
        }
      ]
    },
    {
      "cell_type": "code",
      "metadata": {
        "colab": {
          "base_uri": "https://localhost:8080/"
        },
        "id": "VdZoMmbsiUoO",
        "outputId": "444e8af2-ad92-439f-f150-09709367104a"
      },
      "source": [
        "!pip install pandas"
      ],
      "execution_count": null,
      "outputs": [
        {
          "output_type": "stream",
          "name": "stdout",
          "text": [
            "Requirement already satisfied: pandas in /usr/local/lib/python3.7/dist-packages (1.1.5)\n",
            "Requirement already satisfied: python-dateutil>=2.7.3 in /usr/local/lib/python3.7/dist-packages (from pandas) (2.8.2)\n",
            "Requirement already satisfied: numpy>=1.15.4 in /usr/local/lib/python3.7/dist-packages (from pandas) (1.19.5)\n",
            "Requirement already satisfied: pytz>=2017.2 in /usr/local/lib/python3.7/dist-packages (from pandas) (2018.9)\n",
            "Requirement already satisfied: six>=1.5 in /usr/local/lib/python3.7/dist-packages (from python-dateutil>=2.7.3->pandas) (1.15.0)\n"
          ]
        }
      ]
    },
    {
      "cell_type": "code",
      "metadata": {
        "id": "BBg87JOQjq8t"
      },
      "source": [
        ""
      ],
      "execution_count": null,
      "outputs": []
    },
    {
      "cell_type": "code",
      "metadata": {
        "id": "-LtXCkVmbAGy"
      },
      "source": [
        ""
      ],
      "execution_count": null,
      "outputs": []
    },
    {
      "cell_type": "code",
      "metadata": {
        "colab": {
          "base_uri": "https://localhost:8080/"
        },
        "id": "GEj9QuJMa4lh",
        "outputId": "f0071928-ee75-4c9c-8ae7-7570e284f45b"
      },
      "source": [
        "!pip install requests"
      ],
      "execution_count": 8,
      "outputs": [
        {
          "output_type": "stream",
          "name": "stdout",
          "text": [
            "Requirement already satisfied: requests in /usr/local/lib/python3.7/dist-packages (2.20.0)\n",
            "Requirement already satisfied: certifi>=2017.4.17 in /usr/local/lib/python3.7/dist-packages (from requests) (2021.5.30)\n",
            "Requirement already satisfied: chardet<3.1.0,>=3.0.2 in /usr/local/lib/python3.7/dist-packages (from requests) (3.0.4)\n",
            "Requirement already satisfied: urllib3<1.25,>=1.21.1 in /usr/local/lib/python3.7/dist-packages (from requests) (1.24.3)\n",
            "Requirement already satisfied: idna<2.8,>=2.5 in /usr/local/lib/python3.7/dist-packages (from requests) (2.7)\n"
          ]
        }
      ]
    },
    {
      "cell_type": "code",
      "metadata": {
        "colab": {
          "base_uri": "https://localhost:8080/"
        },
        "id": "DqnJ9mgkbHuF",
        "outputId": "a4445fbc-7089-4cec-d53b-99ae36334cff"
      },
      "source": [
        "!pip install Jinja2"
      ],
      "execution_count": 9,
      "outputs": [
        {
          "output_type": "stream",
          "name": "stdout",
          "text": [
            "Requirement already satisfied: Jinja2 in /usr/local/lib/python3.7/dist-packages (2.11.3)\n",
            "Requirement already satisfied: MarkupSafe>=0.23 in /usr/local/lib/python3.7/dist-packages (from Jinja2) (2.0.1)\n"
          ]
        }
      ]
    },
    {
      "cell_type": "code",
      "metadata": {
        "colab": {
          "base_uri": "https://localhost:8080/"
        },
        "id": "ylt1GcUFbNJL",
        "outputId": "767413bf-588f-4265-d84d-2ff81f14dc20"
      },
      "source": [
        "!pip install urllib3"
      ],
      "execution_count": 10,
      "outputs": [
        {
          "output_type": "stream",
          "name": "stdout",
          "text": [
            "Requirement already satisfied: urllib3 in /usr/local/lib/python3.7/dist-packages (1.24.3)\n"
          ]
        }
      ]
    },
    {
      "cell_type": "code",
      "metadata": {
        "colab": {
          "base_uri": "https://localhost:8080/"
        },
        "id": "2xlmOIY3bRs7",
        "outputId": "3c38ec3e-3e5b-4482-fd82-ea5c9c3acb9b"
      },
      "source": [
        "!pip install certifi"
      ],
      "execution_count": 11,
      "outputs": [
        {
          "output_type": "stream",
          "name": "stdout",
          "text": [
            "Requirement already satisfied: certifi in /usr/local/lib/python3.7/dist-packages (2021.5.30)\n"
          ]
        }
      ]
    },
    {
      "cell_type": "code",
      "metadata": {
        "id": "g0IO2o4GccPK"
      },
      "source": [
        "#!/usr/bin/env python3\n",
        "import argparse\n",
        "import inspect\n",
        "import json\n",
        "import os\n",
        "\n"
      ],
      "execution_count": 4,
      "outputs": []
    },
    {
      "cell_type": "code",
      "metadata": {
        "id": "geNZSfGQcwN8"
      },
      "source": [
        "from jinja2 import Environment"
      ],
      "execution_count": 5,
      "outputs": []
    },
    {
      "cell_type": "code",
      "metadata": {
        "id": "P5iqkKklc6J2"
      },
      "source": [
        "from jinja2 import FileSystemLoader"
      ],
      "execution_count": 6,
      "outputs": []
    },
    {
      "cell_type": "code",
      "metadata": {
        "colab": {
          "base_uri": "https://localhost:8080/"
        },
        "id": "0gEVwluG1-x1",
        "outputId": "5d747f49-8184-41e9-b111-7fc2aa7daec2"
      },
      "source": [
        "!pip install pyseoanalyzer\n"
      ],
      "execution_count": 10,
      "outputs": [
        {
          "output_type": "stream",
          "name": "stdout",
          "text": [
            "Collecting pyseoanalyzer\n",
            "  Downloading pyseoanalyzer-4.0.3.tar.gz (13 kB)\n",
            "Requirement already satisfied: BeautifulSoup4 in /usr/local/lib/python3.7/dist-packages (from pyseoanalyzer) (4.6.3)\n",
            "Requirement already satisfied: requests in /usr/local/lib/python3.7/dist-packages (from pyseoanalyzer) (2.23.0)\n",
            "Requirement already satisfied: jinja2 in /usr/local/lib/python3.7/dist-packages (from pyseoanalyzer) (2.11.3)\n",
            "Requirement already satisfied: urllib3 in /usr/local/lib/python3.7/dist-packages (from pyseoanalyzer) (1.24.3)\n",
            "Requirement already satisfied: certifi in /usr/local/lib/python3.7/dist-packages (from pyseoanalyzer) (2021.5.30)\n",
            "Requirement already satisfied: MarkupSafe>=0.23 in /usr/local/lib/python3.7/dist-packages (from jinja2->pyseoanalyzer) (2.0.1)\n",
            "Requirement already satisfied: chardet<4,>=3.0.2 in /usr/local/lib/python3.7/dist-packages (from requests->pyseoanalyzer) (3.0.4)\n",
            "Requirement already satisfied: idna<3,>=2.5 in /usr/local/lib/python3.7/dist-packages (from requests->pyseoanalyzer) (2.10)\n",
            "Building wheels for collected packages: pyseoanalyzer\n",
            "  Building wheel for pyseoanalyzer (setup.py) ... \u001b[?25l\u001b[?25hdone\n",
            "  Created wheel for pyseoanalyzer: filename=pyseoanalyzer-4.0.3-py3-none-any.whl size=15366 sha256=4db923ffc8dc7034d27bb63fd6caa3be5a62448defe80994c3a7dfd7dec91c40\n",
            "  Stored in directory: /root/.cache/pip/wheels/64/40/28/70c4495aa56d5392316a1517b56f686a609b1416e5620bd30c\n",
            "Successfully built pyseoanalyzer\n",
            "Installing collected packages: pyseoanalyzer\n",
            "Successfully installed pyseoanalyzer-4.0.3\n"
          ]
        }
      ]
    },
    {
      "cell_type": "code",
      "metadata": {
        "id": "FYFGIciI2JAC"
      },
      "source": [
        "import seoanalyzer"
      ],
      "execution_count": 16,
      "outputs": []
    },
    {
      "cell_type": "code",
      "metadata": {
        "id": "dQM2IbKm3C8D"
      },
      "source": [
        "from seoanalyzer import analyze"
      ],
      "execution_count": 19,
      "outputs": []
    },
    {
      "cell_type": "code",
      "metadata": {
        "id": "oWFgT0jG3VcN"
      },
      "source": [
        "def main(args=None):\n",
        "    if not args:\n",
        "        module_path = os.path.dirname(inspect.getfile(analyze))"
      ],
      "execution_count": 20,
      "outputs": []
    },
    {
      "cell_type": "code",
      "metadata": {
        "id": "MBva0Nuq3a-D"
      },
      "source": [
        "arg_parser = argparse.ArgumentParser()"
      ],
      "execution_count": 21,
      "outputs": []
    },
    {
      "cell_type": "code",
      "metadata": {
        "colab": {
          "base_uri": "https://localhost:8080/"
        },
        "id": "ASWbX__w381w",
        "outputId": "4a54be21-6798-4b54-a6f4-1588137fb4e7"
      },
      "source": [
        "arg_parser.add_argument('site', help='https://www.adamenfroy.com/')\n",
        "\n"
      ],
      "execution_count": 28,
      "outputs": [
        {
          "output_type": "execute_result",
          "data": {
            "text/plain": [
              "_StoreAction(option_strings=[], dest='site', nargs=None, const=None, default=None, type=None, choices=None, help='https://www.adamenfroy.com/', metavar=None)"
            ]
          },
          "metadata": {},
          "execution_count": 28
        }
      ]
    },
    {
      "cell_type": "code",
      "metadata": {
        "id": "raSGKan47fsH"
      },
      "source": [
        ""
      ],
      "execution_count": null,
      "outputs": []
    },
    {
      "cell_type": "code",
      "metadata": {
        "colab": {
          "base_uri": "https://localhost:8080/"
        },
        "id": "f_v6t4vE6_0V",
        "outputId": "75984d9d-a713-4be3-b941-51f6ce6a3c3d"
      },
      "source": [
        "arg_parser.add_argument('sitemap', help='https://www.adamenfroy.com/sitemap_index.xml')"
      ],
      "execution_count": 35,
      "outputs": [
        {
          "output_type": "execute_result",
          "data": {
            "text/plain": [
              "_StoreAction(option_strings=[], dest='sitemap', nargs=None, const=None, default=None, type=None, choices=None, help='https://www.adamenfroy.com/sitemap_index.xml', metavar=None)"
            ]
          },
          "metadata": {},
          "execution_count": 35
        }
      ]
    },
    {
      "cell_type": "code",
      "metadata": {
        "colab": {
          "base_uri": "https://localhost:8080/"
        },
        "id": "fZj2NQnuAOrE",
        "outputId": "2040b542-cb88-4ee6-f17c-d686f706d3cb"
      },
      "source": [
        "arg_parser.add_argument('output-format', help='Output format.', choices=['json', 'html', ],                       default='json')"
      ],
      "execution_count": 37,
      "outputs": [
        {
          "output_type": "execute_result",
          "data": {
            "text/plain": [
              "_StoreAction(option_strings=[], dest='output-format', nargs=None, const=None, default='json', type=None, choices=['json', 'html'], help='Output format.', metavar=None)"
            ]
          },
          "metadata": {},
          "execution_count": 37
        }
      ]
    }
  ]
}